{
 "cells": [
  {
   "cell_type": "code",
   "execution_count": 1,
   "metadata": {},
   "outputs": [],
   "source": [
    "%matplotlib inline\n",
    "import matplotlib.pyplot as plt\n",
    "import firedrake\n",
    "import icepack, icepack.models, icepack.plot"
   ]
  },
  {
   "cell_type": "code",
   "execution_count": 2,
   "metadata": {},
   "outputs": [],
   "source": [
    "Lx, Ly = 50e3, 12e3\n",
    "nx, ny = 48, 32\n",
    "mesh2d = firedrake.RectangleMesh(nx, ny, Lx, Ly)\n",
    "mesh = firedrake.ExtrudedMesh(mesh2d, layers=1)"
   ]
  },
  {
   "cell_type": "code",
   "execution_count": 3,
   "metadata": {},
   "outputs": [],
   "source": [
    "Q = firedrake.FunctionSpace(mesh, family='CG', degree=2, vfamily='DG', vdegree=0)"
   ]
  },
  {
   "cell_type": "code",
   "execution_count": 4,
   "metadata": {},
   "outputs": [],
   "source": [
    "Q3D = firedrake.FunctionSpace(mesh, family='CG', degree=2, vfamily='GL', vdegree=9)"
   ]
  },
  {
   "cell_type": "code",
   "execution_count": 5,
   "metadata": {},
   "outputs": [],
   "source": [
    "V = firedrake.VectorFunctionSpace(mesh, dim=2, family='CG', degree=2, vfamily='GL', vdegree=4)"
   ]
  },
  {
   "cell_type": "code",
   "execution_count": 6,
   "metadata": {},
   "outputs": [],
   "source": [
    "from icepack.constants import (ice_density as ρ_I, water_density as ρ_W,\n",
    "                               gravity as g)\n",
    "\n",
    "x, y, ζ = firedrake.SpatialCoordinate(mesh)"
   ]
  },
  {
   "cell_type": "code",
   "execution_count": 7,
   "metadata": {},
   "outputs": [],
   "source": [
    "b_in, b_out = 200, -400\n",
    "b = firedrake.interpolate(b_in - (b_in - b_out) * x / Lx, Q)\n",
    "\n",
    "s_in, s_out = 850, 50\n",
    "s0 = firedrake.interpolate(s_in - (s_in - s_out) * x / Lx, Q)\n",
    "\n",
    "h0 = firedrake.interpolate(s0 - b, Q)"
   ]
  },
  {
   "cell_type": "code",
   "execution_count": 8,
   "metadata": {},
   "outputs": [],
   "source": [
    "h_in = s_in - b_in\n",
    "δs_δx = (s_out - s_in) / Lx\n",
    "τ_D = -ρ_I * g * h_in * δs_δx"
   ]
  },
  {
   "cell_type": "code",
   "execution_count": 9,
   "metadata": {},
   "outputs": [],
   "source": [
    "u_in, u_out = 0.0, 2400\n",
    "velocity_x = u_in + (u_out - u_in) * (x/Lx)**2\n",
    "u0 = firedrake.interpolate(firedrake.as_vector((velocity_x, 0)), V)"
   ]
  },
  {
   "cell_type": "code",
   "execution_count": 10,
   "metadata": {},
   "outputs": [],
   "source": [
    "age=firedrake.interpolate(firedrake.Constant(0.0),Q3D)"
   ]
  },
  {
   "cell_type": "code",
   "execution_count": 11,
   "metadata": {},
   "outputs": [],
   "source": [
    "temp = 255.0\n",
    "A = firedrake.Constant(icepack.rate_factor(temp))"
   ]
  },
  {
   "cell_type": "code",
   "execution_count": 12,
   "metadata": {},
   "outputs": [],
   "source": [
    "from icepack.constants import weertman_sliding_law as m\n",
    "C = firedrake.interpolate((0.95 - 0.40 * firedrake.sin(10*firedrake.pi*x/Lx)) * τ_D / 20.0**(1/m),Q)\n",
    "\n",
    "p_W = ρ_W * g * firedrake.max_value(0, h0 - s0)\n",
    "p_I = ρ_I * g * h0\n",
    "ϕ = 1 - p_W / p_I"
   ]
  },
  {
   "cell_type": "code",
   "execution_count": 13,
   "metadata": {},
   "outputs": [],
   "source": [
    "beta = firedrake.interpolate(C,Q)"
   ]
  },
  {
   "cell_type": "code",
   "execution_count": 14,
   "metadata": {},
   "outputs": [],
   "source": [
    "import icepack.models.hybrid\n",
    "def friction(**kwargs):\n",
    "    u = kwargs['velocity']\n",
    "    h = kwargs['thickness']\n",
    "    s = kwargs['surface']\n",
    "    C = kwargs['friction']\n",
    "    \n",
    "    p_W = ρ_W * g * firedrake.max_value(0, h - s)\n",
    "    p_I = ρ_I * g * h\n",
    "    ϕ = 1 - p_W / p_I\n",
    "    return icepack.models.hybrid.bed_friction(\n",
    "        velocity=u, \n",
    "        friction=C * ϕ\n",
    "    )"
   ]
  },
  {
   "cell_type": "code",
   "execution_count": 15,
   "metadata": {},
   "outputs": [],
   "source": [
    "model = icepack.models.HybridModel(friction=friction)\n",
    "opts = {'dirichlet_ids': [1], 'side_wall_ids': [3, 4]}\n",
    "solver = icepack.solvers.FlowSolver(model, **opts)\n",
    "\n",
    "u0 = solver.diagnostic_solve(\n",
    "    velocity=u0,\n",
    "    thickness=h0,\n",
    "    surface=s0,\n",
    "    fluidity=A,\n",
    "    friction=C\n",
    ")\n"
   ]
  },
  {
   "cell_type": "code",
   "execution_count": 16,
   "metadata": {},
   "outputs": [
    {
     "name": "stderr",
     "output_type": "stream",
     "text": [
      "100%|██████████| 20/20 [03:48<00:00, 11.42s/it]\n"
     ]
    }
   ],
   "source": [
    "import tqdm\n",
    "\n",
    "num_years = 10\n",
    "timesteps_per_year = 2\n",
    "\n",
    "δt = 1.0 / timesteps_per_year\n",
    "num_timesteps = num_years * timesteps_per_year\n",
    "\n",
    "a = firedrake.interpolate(2.7 - 2.5 * x / Lx, Q)\n",
    "h = h0.copy(deepcopy=True)\n",
    "u = u0.copy(deepcopy=True)\n",
    "\n",
    "for step in tqdm.trange(num_timesteps):\n",
    "    h = solver.prognostic_solve(\n",
    "        δt,\n",
    "        thickness=h,\n",
    "        velocity=u,\n",
    "        accumulation=a,\n",
    "        thickness_inflow=h0\n",
    "    )\n",
    "    s = icepack.compute_surface(thickness=h, bed=b)\n",
    "    \n",
    "    u = solver.diagnostic_solve(\n",
    "        velocity=u,\n",
    "        thickness=h,\n",
    "        surface=s,\n",
    "        fluidity=A,\n",
    "        friction=C\n",
    "    )"
   ]
  },
  {
   "cell_type": "code",
   "execution_count": 17,
   "metadata": {},
   "outputs": [],
   "source": [
    "age_model = icepack.models.AgeTransport()\n",
    "age_solver = icepack.solvers.AgeSolver(age_model)"
   ]
  },
  {
   "cell_type": "code",
   "execution_count": 18,
   "metadata": {},
   "outputs": [
    {
     "data": {
      "text/plain": [
       "array([0., 0., 0., ..., 0., 0., 0.])"
      ]
     },
     "execution_count": 18,
     "metadata": {},
     "output_type": "execute_result"
    }
   ],
   "source": [
    "age.dat.data"
   ]
  },
  {
   "cell_type": "code",
   "execution_count": 19,
   "metadata": {},
   "outputs": [
    {
     "name": "stderr",
     "output_type": "stream",
     "text": [
      "100%|██████████| 100/100 [06:05<00:00,  3.65s/it]\n"
     ]
    }
   ],
   "source": [
    "import tqdm\n",
    "\n",
    "num_years = 10\n",
    "timesteps_per_year = 10\n",
    "\n",
    "δt = 1.0 / timesteps_per_year\n",
    "num_timesteps = num_years * timesteps_per_year\n",
    "\n",
    "\n",
    "for step in tqdm.trange(num_timesteps):\n",
    "    age = age_solver.solve(δt,velocity=u,thickness=h,age=age)\n",
    "    "
   ]
  },
  {
   "cell_type": "code",
   "execution_count": 20,
   "metadata": {},
   "outputs": [
    {
     "data": {
      "text/plain": [
       "-300372.8887431065"
      ]
     },
     "execution_count": 20,
     "metadata": {},
     "output_type": "execute_result"
    }
   ],
   "source": [
    "import numpy as np\n",
    "np.min(age.dat.data)"
   ]
  },
  {
   "cell_type": "code",
   "execution_count": 21,
   "metadata": {},
   "outputs": [
    {
     "data": {
      "image/png": "[encoded data removed]",
      "text/plain": [
       "<Figure size 432x288 with 1 Axes>"
      ]
     },
     "metadata": {
      "needs_background": "light"
     },
     "output_type": "display_data"
    }
   ],
   "source": [
    "import numpy as np\n",
    "xs = np.array([(Lx * k / nx, 0, .5) for k in range(nx + 1)])\n",
    "ss = np.array(s.at(xs, tolerance=1e-10))\n",
    "hs = np.array(h.at(xs, tolerance=1e-10))\n",
    "bs = np.array(b.at(xs, tolerance=1e-10))\n",
    "\n",
    "fig, axes = plt.subplots()\n",
    "axes.plot(xs[:, 0], bs, color='black')\n",
    "axes.plot(xs[:, 0], ss - hs, color='blue')\n",
    "axes.plot(xs[:, 0], ss, color='blue')\n",
    "plt.show(fig)"
   ]
  },
  {
   "cell_type": "code",
   "execution_count": 22,
   "metadata": {},
   "outputs": [],
   "source": [
    "import matplotlib.pyplot as plt\n",
    "from matplotlib.collections import LineCollection\n",
    "from matplotlib.colors import ListedColormap, BoundaryNorm\n",
    "\n",
    "nz=10\n",
    "\n",
    "xz = np.array([(Lx * k / nx, 0, i)  for k in range(nx + 1) for i in np.arange(0,1.0,1.0/nz)])\n",
    "ageM= np.array(age.at(xz, tolerance=1e-10))\n",
    "ageM=np.reshape(ageM,(49,10));\n",
    "xz=np.reshape(xz,(49,10,3));\n",
    "hz=np.reshape(np.repeat(hs,10),(49,10));\n",
    "hz=np.multiply(xz[:,:,2],hz,);\n",
    "\n"
   ]
  },
  {
   "cell_type": "code",
   "execution_count": 23,
   "metadata": {},
   "outputs": [
    {
     "data": {
      "image/png": "[encoded data removed]",
      "text/plain": [
       "<Figure size 432x288 with 2 Axes>"
      ]
     },
     "metadata": {
      "needs_background": "light"
     },
     "output_type": "display_data"
    }
   ],
   "source": [
    "fig, axs = plt.subplots()\n",
    "for i in range(0,10):\n",
    "    points = np.array([np.squeeze(xz[:,i,0]),np.squeeze(ss-hz[:,i])]).T.reshape(-1, 1, 2)\n",
    "    segments = np.concatenate([points[:-1], points[1:]], axis=1)\n",
    "    norm = plt.Normalize(0, 10)\n",
    "    lc = LineCollection(segments, cmap='viridis', norm=norm)\n",
    "    # Set the values used for colormapping\n",
    "    lc.set_array(np.squeeze(ageM[:,i]))\n",
    "    lc.set_linewidth(2)\n",
    "    line = axs.add_collection(lc)\n",
    "axs.set_xlim(xz.min(), xz.max())\n",
    "axs.set_ylim(bs.min(), ss.max())\n",
    "axs.plot(xs[:, 0], bs, color='black')\n",
    "fig.colorbar(line, ax=axs)    \n",
    "axs.set_ylabel('elevation.(m)')\n",
    "axs.set_xlabel('distance.(km)')\n",
    "plt.show()"
   ]
  },
  {
   "cell_type": "code",
   "execution_count": 24,
   "metadata": {},
   "outputs": [
    {
     "data": {
      "text/plain": [
       "array([1.00056885e+01, 9.98598572e+00, 1.00191037e+01, ...,\n",
       "       2.76736571e+06, 2.96845333e+06, 2.57816261e+05])"
      ]
     },
     "execution_count": 24,
     "metadata": {},
     "output_type": "execute_result"
    }
   ],
   "source": [
    "age.dat.data"
   ]
  },
  {
   "cell_type": "code",
   "execution_count": 25,
   "metadata": {},
   "outputs": [],
   "source": [
    "age_model = icepack.models.AgeTransport()\n",
    "age_solver = icepack.solvers.AgeSolver(age_model)"
   ]
  },
  {
   "cell_type": "markdown",
   "metadata": {},
   "source": [
    "# Method of characteristics\n",
    "We use the method of characteristics to solve the age equation, which can be written as\n",
    "\n",
    "$$\\vec{u}\\cdot\\nabla \\mathcal{A} + \\frac{\\partial\\mathcal{A}}{\\partial t} = 1$$.\n",
    "\n",
    "We want to transform this linear first-order PDE into an ODE along the appropriate curve; i.e. something of the form\n",
    "\n",
    "$$\\frac{d}{ds} \\mathcal{A}(x(s),t(s) = F(\\mathcal{A},x(s),t(s))$$\n",
    "\n",
    "where (x(s),t(s)) is the characteristic volume. Using the chain rule, we can rewrite this description of the age evolution as\n",
    "\n",
    "$$\\frac{d}{ds} \\mathcal{A}(x(s),t(s) = \\frac{\\partial \\mathcal{A}}{\\partial x} \\frac{d x}{d s} +\\frac{\\partial \\mathcal{A}}{\\partial y} \\frac{d y}{d s} +\\frac{\\partial \\mathcal{A}}{\\partial z} \\frac{d z}{d s} + \\frac{\\partial \\mathcal{A}}{\\partial t} \\frac{dt}{ds}.$$\n",
    "\n",
    "If we set $\\frac{d t}{d s} = 1$ and $\\frac{d \\vec{x}}{d s} = \\vec{u}$, we see that \n",
    "\n",
    "$$\\frac{d}{ds} \\mathcal{A}(x(s),t(s) = \\vec{u}\\cdot\\nabla \\mathcal{A}+ \\frac{\\partial\\mathcal{A}}{\\partial t}, $$ \n",
    "\n",
    "which is just the left hand side of the PDE we started with. Thus, \n",
    "\n",
    "$$\\frac{d \\mathcal{A}}{ds} = 1$$\n",
    "\n",
    "$$\\frac{d t}{ds} = 1$$\n",
    "\n",
    "$$\\frac{d x}{ds} = \\vec{u}$$\n",
    "\n",
    "and the original PDE becomes a system of ordinary differential equations that we can solve with respect to s.\n"
   ]
  }
 ],
 "metadata": {
  "kernelspec": {
   "display_name": "firedrake",
   "language": "python",
   "name": "firedrake"
  },
  "language_info": {
   "codemirror_mode": {
    "name": "ipython",
    "version": 3
   },
   "file_extension": ".py",
   "mimetype": "text/x-python",
   "name": "python",
   "nbconvert_exporter": "python",
   "pygments_lexer": "ipython3",
   "version": "3.8.6"
  }
 },
 "nbformat": 4,
 "nbformat_minor": 4
}
