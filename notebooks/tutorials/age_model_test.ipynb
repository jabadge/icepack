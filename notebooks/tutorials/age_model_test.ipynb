{
 "cells": [
  {
   "cell_type": "code",
   "execution_count": null,
   "id": "6e7a6fbb",
   "metadata": {},
   "outputs": [],
   "source": [
    "%matplotlib inline\n",
    "import matplotlib.pyplot as plt\n",
    "import firedrake\n",
    "import icepack, icepack.models, icepack.plot\n",
    "from icepack.constants import ice_density as ρ_I, water_density as ρ_W, gravity as g\n",
    "import numpy as np"
   ]
  },
  {
   "cell_type": "code",
   "execution_count": null,
   "id": "4b5215d6",
   "metadata": {},
   "outputs": [],
   "source": [
    "Lx, Ly = 1e3, 1e3\n",
    "nx, ny = 20, 20\n",
    "mesh2d = firedrake.RectangleMesh(nx, ny, Lx, Ly)\n",
    "mesh = firedrake.ExtrudedMesh(mesh2d, layers=1)"
   ]
  },
  {
   "cell_type": "code",
   "execution_count": null,
   "id": "6f3d9428",
   "metadata": {},
   "outputs": [],
   "source": [
    "Q = firedrake.FunctionSpace(mesh, family='CG', degree=2, vfamily='DG', vdegree=0)\n",
    "V = firedrake.VectorFunctionSpace(mesh, dim=2, family='CG', degree=2, vfamily='GL', vdegree=6)\n",
    "Q3D = firedrake.FunctionSpace(mesh, family='DG', degree=2, vfamily='GL', vdegree=1+V.ufl_element().degree()[1])"
   ]
  },
  {
   "cell_type": "code",
   "execution_count": null,
   "id": "ded40a3b",
   "metadata": {},
   "outputs": [],
   "source": [
    "x, y, ζ = firedrake.SpatialCoordinate(mesh)"
   ]
  },
  {
   "cell_type": "code",
   "execution_count": null,
   "id": "9b333544",
   "metadata": {},
   "outputs": [],
   "source": [
    "b = firedrake.interpolate(firedrake.Constant(0.0), Q)\n",
    "s = firedrake.interpolate(firedrake.Constant(1000), Q)\n",
    "h = firedrake.interpolate(s - b, Q)\n",
    "\n",
    "ux = firedrake.Constant(40)\n",
    "uy = firedrake.Constant(0)\n",
    "uz = firedrake.Constant(-40)\n",
    "u = firedrake.interpolate(firedrake.as_vector((ux, uy)), V)\n",
    "w = firedrake.interpolate(uz/h,Q3D)\n",
    "\n",
    "num_years = 10.0"
   ]
  },
  {
   "cell_type": "code",
   "execution_count": null,
   "id": "b4bcc677",
   "metadata": {},
   "outputs": [],
   "source": [
    "# create a mask assuming age propogation from upper left to lower right\n",
    "x_eval_min = 0 + ux.dat.data[0] * num_years\n",
    "#x_eval_max = Lx\n",
    "y_eval_min = 0 + uy.dat.data[0] * num_years\n",
    "#y_eval_max = Ly\n",
    "#z_eval_min = 0\n",
    "z_eval_max = (h.dat.data[0] + uz.dat.data[0] * num_years) / h.dat.data[0]\n",
    "\n",
    "#if (x_eval_max <= x_eval_min) or (y_eval_max <= y_eval_min) or (z_eval_max <= z_eval_min):\n",
    "#    raise ValueError('No points to evaluate.')\n",
    "    \n",
    "mask_x = firedrake.conditional(x<x_eval_min,0,1)\n",
    "mask_y = firedrake.conditional(y<y_eval_min,0,1)\n",
    "mask_z = firedrake.conditional(ζ>z_eval_max,0,1)\n",
    "mask = mask_x * mask_y * mask_z\n",
    "\n",
    "fig, axes = icepack.plot.subplots()\n",
    "colors = icepack.plot.tripcolor(firedrake.interpolate(mask, Q3D), axes=axes)\n",
    "fig.colorbar(colors, label='mask')"
   ]
  },
  {
   "cell_type": "code",
   "execution_count": null,
   "id": "c43e4bbd",
   "metadata": {},
   "outputs": [],
   "source": [
    "def velocity_3D(**kwargs):\n",
    "    u = kwargs['velocity']\n",
    "    h = kwargs['thickness']\n",
    "    uz = kwargs['uz']\n",
    "    \n",
    "    Q = h.function_space()\n",
    "    V = u.function_space()\n",
    "    mesh = Q.mesh()\n",
    "    xdegree_u, zdegree_u = u.ufl_element().degree()\n",
    "    W = firedrake.FunctionSpace(mesh, family='CG', degree=2, vfamily='GL', vdegree=1+V.ufl_element().degree()[1])\n",
    "    w = firedrake.interpolate(uz/h,W)\n",
    "    V3D = firedrake.VectorFunctionSpace(mesh, dim=3, family='CG', degree=xdegree_u, vfamily='GL',vdegree=zdegree_u+1)\n",
    "    u3D = firedrake.Function(V3D).interpolate(firedrake.as_vector((u[0],u[1],w)))\n",
    "    \n",
    "    return u3D"
   ]
  },
  {
   "cell_type": "code",
   "execution_count": null,
   "id": "8061ed45",
   "metadata": {},
   "outputs": [],
   "source": [
    "u3D = velocity_3D(velocity=u, thickness=h, uz=uz)"
   ]
  },
  {
   "cell_type": "code",
   "execution_count": null,
   "id": "679e063f",
   "metadata": {},
   "outputs": [],
   "source": [
    "age_model = icepack.models.AgeTransport(velocity_3D=velocity_3D)\n",
    "age_solver = icepack.solvers.AgeSolver(age_model)"
   ]
  },
  {
   "cell_type": "code",
   "execution_count": null,
   "id": "32dae83c",
   "metadata": {},
   "outputs": [],
   "source": [
    "import tqdm\n",
    "import numpy as np\n",
    "\n",
    "x0=0\n",
    "y0=0\n",
    "z0=900\n",
    "age0=0\n",
    "\n",
    "timesteps_per_year = [5.0, 6.0, 7.0, 8.0, 9.0, 10.0]\n",
    "\n",
    "L1s = []\n",
    "\n",
    "for tpy in timesteps_per_year:\n",
    "    \n",
    "    age = firedrake.interpolate(firedrake.Constant(0.0),Q3D)\n",
    "\n",
    "    δt = 1.0 / tpy\n",
    "    num_timesteps = int(num_years * tpy)\n",
    "    \n",
    "    num_age = np.zeros((num_timesteps,1))*np.nan\n",
    "    ana_age = np.zeros((num_timesteps,1))*np.nan\n",
    "    ts = np.zeros((num_timesteps,1))*np.nan\n",
    "\n",
    "    for step in tqdm.trange(num_timesteps):\n",
    "        age = age_solver.solve(δt,velocity=u,thickness=h,age=age,uz=uz)\n",
    "        t = step*δt\n",
    "        ts[step] = t\n",
    "        num_age[step] = age.at(x0+ux*t,y0+uy*t,(z0+uz*t)/1000,tolerance=1e-10)\n",
    "        ana_age[step] = age0+t\n",
    "    \n",
    "    num_sol = firedrake.interpolate(age*mask, Q3D)\n",
    "    ana_sol = firedrake.interpolate((age0+t)*mask, Q3D)\n",
    "\n",
    "    J = (num_sol-ana_sol) * firedrake.dx\n",
    "    L1 = firedrake.assemble(J)\n",
    "    L1s += [L1]\n",
    "    print(tpy, L1)\n",
    "    \n",
    "    #plt.figure()\n",
    "    #plt.plot(ts,num_age,label=\"numerical\")\n",
    "    #plt.plot(ts,ana_age,label=\"analytical\")\n",
    "    #plt.legend()\n",
    "\n",
    "    plt.figure()\n",
    "    plt.plot(ts,num_age-ana_age,label=\"numerical-analytical\")\n",
    "    plt.legend()\n",
    "    plt.title(str(tpy))"
   ]
  },
  {
   "cell_type": "code",
   "execution_count": null,
   "id": "74af964c",
   "metadata": {},
   "outputs": [],
   "source": [
    "plt.plot(1/np.array(timesteps_per_year),L1s,'ko')"
   ]
  },
  {
   "cell_type": "code",
   "execution_count": null,
   "id": "2467b21d",
   "metadata": {},
   "outputs": [],
   "source": [
    "print(num_sol.dat.data.max())\n",
    "print(ana_sol.dat.data.max())"
   ]
  },
  {
   "cell_type": "code",
   "execution_count": null,
   "id": "3d5b6949",
   "metadata": {},
   "outputs": [],
   "source": [
    "from matplotlib.collections import LineCollection\n",
    "from matplotlib.colors import ListedColormap, BoundaryNorm\n",
    "\n",
    "nz=20\n",
    "\n",
    "xs = np.array([(Lx * k / nx, 0, .5) for k in range(nx + 1)])\n",
    "ss = np.array(s.at(xs, tolerance=1e-10))\n",
    "hs = np.array(h.at(xs, tolerance=1e-10))\n",
    "bs = np.array(b.at(xs, tolerance=1e-10))\n",
    "\n",
    "xz = np.array([(Lx * k / nx, 0, i)  for k in range(nx + 1) for i in np.arange(0,1.0,1.0/nz)])\n",
    "ageM= np.array(age.at(xz, tolerance=1e-10))\n",
    "ageM=np.reshape(ageM,(21,nz));\n",
    "xz=np.reshape(xz,(21,nz,3));\n",
    "hz=np.reshape(np.repeat(hs,nz),(21,nz));\n",
    "hz=np.multiply(xz[:,:,2],hz);"
   ]
  },
  {
   "cell_type": "code",
   "execution_count": null,
   "id": "a6b3b892",
   "metadata": {},
   "outputs": [],
   "source": [
    "fig, axs = plt.subplots()\n",
    "for i in range(0,nz):\n",
    "    points = np.array([np.squeeze(xz[:,i,0]),np.squeeze(ss-hz[:,i])]).T.reshape(-1, 1, 2)\n",
    "    segments = np.concatenate([points[:-1], points[1:]], axis=1)\n",
    "    norm = plt.Normalize(0,20)\n",
    "    lc = LineCollection(segments, cmap='RdBu', norm=norm)\n",
    "    # Set the values used for colormapping\n",
    "    lc.set_array(np.squeeze(ageM[:,nz-1-i]))\n",
    "    lc.set_linewidth(2)\n",
    "    line = axs.add_collection(lc)\n",
    "axs.set_xlim(xz.min(), xz.max())\n",
    "axs.set_ylim(bs.min(), ss.max())\n",
    "axs.plot(xs[:, 0], bs, color='black')\n",
    "fig.colorbar(line, ax=axs,label=r'age $(years)$')\n",
    "axs.set_ylabel('elevation (m)')\n",
    "axs.set_xlabel('distance (m)')\n",
    "plt.show()"
   ]
  },
  {
   "cell_type": "code",
   "execution_count": null,
   "id": "2b99f076",
   "metadata": {},
   "outputs": [],
   "source": [
    "fig, axes = icepack.plot.subplots()\n",
    "colors = icepack.plot.tripcolor(firedrake.interpolate(num_sol-ana_sol, Q3D), axes=axes)\n",
    "fig.colorbar(colors, label='masked age')"
   ]
  }
 ],
 "metadata": {
  "kernelspec": {
   "display_name": "firedrake",
   "language": "python",
   "name": "firedrake"
  },
  "language_info": {
   "codemirror_mode": {
    "name": "ipython",
    "version": 3
   },
   "file_extension": ".py",
   "mimetype": "text/x-python",
   "name": "python",
   "nbconvert_exporter": "python",
   "pygments_lexer": "ipython3",
   "version": "3.9.2"
  }
 },
 "nbformat": 4,
 "nbformat_minor": 5
}
