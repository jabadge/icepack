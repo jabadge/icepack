{
 "cells": [
  {
   "cell_type": "code",
   "execution_count": 1,
   "id": "6e7a6fbb",
   "metadata": {},
   "outputs": [],
   "source": [
    "%matplotlib inline\n",
    "import matplotlib.pyplot as plt\n",
    "import firedrake\n",
    "import icepack, icepack.models, icepack.plot\n",
    "from icepack.constants import ice_density as ρ_I, water_density as ρ_W, gravity as g"
   ]
  },
  {
   "cell_type": "code",
   "execution_count": 2,
   "id": "4b5215d6",
   "metadata": {},
   "outputs": [],
   "source": [
    "Lx, Ly = 1e3, 1e3\n",
    "nx, ny = 20, 20\n",
    "mesh2d = firedrake.RectangleMesh(nx, ny, Lx, Ly)\n",
    "mesh = firedrake.ExtrudedMesh(mesh2d, layers=1)"
   ]
  },
  {
   "cell_type": "code",
   "execution_count": 3,
   "id": "6f3d9428",
   "metadata": {},
   "outputs": [],
   "source": [
    "Q = firedrake.FunctionSpace(mesh, family='CG', degree=2, vfamily='DG', vdegree=0)\n",
    "V = firedrake.VectorFunctionSpace(mesh, dim=2, family='CG', degree=2, vfamily='GL', vdegree=5)\n",
    "Q3D = firedrake.FunctionSpace(mesh, family='DG', degree=2, vfamily='GL', vdegree=1+V.ufl_element().degree()[1])"
   ]
  },
  {
   "cell_type": "code",
   "execution_count": 4,
   "id": "ded40a3b",
   "metadata": {},
   "outputs": [],
   "source": [
    "x, y, ζ = firedrake.SpatialCoordinate(mesh)"
   ]
  },
  {
   "cell_type": "code",
   "execution_count": 5,
   "id": "9b333544",
   "metadata": {},
   "outputs": [],
   "source": [
    "b = firedrake.interpolate(firedrake.Constant(0.0), Q)\n",
    "s = firedrake.interpolate(firedrake.Constant(1000), Q)\n",
    "h = firedrake.interpolate(s - b, Q)\n",
    "\n",
    "ux = firedrake.Constant(40)\n",
    "uy = firedrake.Constant(0)\n",
    "uz = firedrake.Constant(20)\n",
    "u = firedrake.interpolate(firedrake.as_vector((ux, uy)), V)\n",
    "w = firedrake.interpolate(uz,Q3D)\n",
    "\n",
    "age = firedrake.interpolate(firedrake.Constant(0.0),Q3D)"
   ]
  },
  {
   "cell_type": "code",
   "execution_count": 6,
   "id": "c43e4bbd",
   "metadata": {},
   "outputs": [],
   "source": [
    "def velocity_3D(**kwargs):\n",
    "    u = kwargs['velocity']\n",
    "    h = kwargs['thickness']\n",
    "    \n",
    "    Q = h.function_space()\n",
    "    V = u.function_space()\n",
    "    mesh = Q.mesh()\n",
    "    xdegree_u, zdegree_u = u.ufl_element().degree()\n",
    "    W = firedrake.FunctionSpace(mesh, family='CG', degree=2, vfamily='GL', vdegree=1+V.ufl_element().degree()[1])\n",
    "    w = firedrake.interpolate(uz,W)\n",
    "    V3D = firedrake.VectorFunctionSpace(mesh, dim=3, family='CG', degree=xdegree_u, vfamily='GL',vdegree=zdegree_u+1)\n",
    "    u3D = firedrake.Function(V3D).interpolate(firedrake.as_vector((u[0],u[1],w)))\n",
    "    \n",
    "    return u3D"
   ]
  },
  {
   "cell_type": "code",
   "execution_count": 7,
   "id": "679e063f",
   "metadata": {},
   "outputs": [],
   "source": [
    "age_model = icepack.models.AgeTransport(velocity_3D=velocity_3D)\n",
    "age_solver = icepack.solvers.AgeSolver(age_model)"
   ]
  },
  {
   "cell_type": "code",
   "execution_count": 8,
   "id": "32dae83c",
   "metadata": {},
   "outputs": [
    {
     "name": "stderr",
     "output_type": "stream",
     "text": [
      "100%|██████████| 100/100 [00:29<00:00,  3.44it/s]\n"
     ]
    }
   ],
   "source": [
    "import tqdm\n",
    "\n",
    "num_years = 20.0\n",
    "timesteps_per_year = 5.0\n",
    "\n",
    "δt = 1.0 / timesteps_per_year\n",
    "num_timesteps = int(num_years * timesteps_per_year)\n",
    "\n",
    "for step in tqdm.trange(num_timesteps):\n",
    "    age = age_solver.solve(δt,velocity=u,thickness=h,age=age)"
   ]
  },
  {
   "cell_type": "code",
   "execution_count": 9,
   "id": "5652b157",
   "metadata": {},
   "outputs": [
    {
     "data": {
      "image/png": "[encoded data removed]",
      "text/plain": [
       "<Figure size 432x288 with 2 Axes>"
      ]
     },
     "metadata": {
      "needs_background": "light"
     },
     "output_type": "display_data"
    }
   ],
   "source": [
    "fig, axes = icepack.plot.subplots()\n",
    "colors = icepack.plot.tripcolor(u, axes=axes, cmap='RdBu', vmin=0, vmax=50)\n",
    "fig.colorbar(colors, label='meters/year', fraction=0.012, pad=0.04);"
   ]
  },
  {
   "cell_type": "code",
   "execution_count": 10,
   "id": "4aae38a9",
   "metadata": {},
   "outputs": [
    {
     "data": {
      "image/png": "[encoded data removed]",
      "text/plain": [
       "<Figure size 432x288 with 1 Axes>"
      ]
     },
     "metadata": {
      "needs_background": "light"
     },
     "output_type": "display_data"
    }
   ],
   "source": [
    "import numpy as np\n",
    "xs = np.array([(Lx * k / nx, 0, .5) for k in range(nx + 1)])\n",
    "ss = np.array(s.at(xs, tolerance=1e-10))\n",
    "hs = np.array(h.at(xs, tolerance=1e-10))\n",
    "bs = np.array(b.at(xs, tolerance=1e-10))\n",
    "\n",
    "fig, axes = plt.subplots()\n",
    "axes.plot(xs[:, 0], bs, color='black')\n",
    "axes.plot(xs[:, 0], ss - hs, color='blue')\n",
    "axes.plot(xs[:, 0], ss, color='blue')\n",
    "plt.show(fig)"
   ]
  },
  {
   "cell_type": "code",
   "execution_count": 11,
   "id": "3d5b6949",
   "metadata": {},
   "outputs": [],
   "source": [
    "import matplotlib.pyplot as plt\n",
    "from matplotlib.collections import LineCollection\n",
    "from matplotlib.colors import ListedColormap, BoundaryNorm\n",
    "\n",
    "nz=20\n",
    "\n",
    "xz = np.array([(Lx * k / nx, 0, i)  for k in range(nx + 1) for i in np.arange(0.0,1.0,1.0/nz)])\n",
    "wM= np.array(w.at(xz, tolerance=1e-10))\n",
    "wM=np.reshape(wM,(21,nz));\n",
    "xz=np.reshape(xz,(21,nz,3));\n",
    "hz=np.reshape(np.repeat(hs,nz),(21,nz));\n",
    "hz=np.multiply(xz[:,:,2],hz);"
   ]
  },
  {
   "cell_type": "code",
   "execution_count": 12,
   "id": "40c7a3d9",
   "metadata": {},
   "outputs": [
    {
     "data": {
      "image/png": "[encoded data removed]",
      "text/plain": [
       "<Figure size 432x288 with 2 Axes>"
      ]
     },
     "metadata": {
      "needs_background": "light"
     },
     "output_type": "display_data"
    }
   ],
   "source": [
    "fig, axs = plt.subplots()\n",
    "for i in range(0,nz):\n",
    "    points = np.array([np.squeeze(xz[:,i,0]),np.squeeze(ss-hz[:,i])]).T.reshape(-1, 1, 2)\n",
    "    segments = np.concatenate([points[:-1], points[1:]], axis=1)\n",
    "    norm = plt.Normalize(0, 50)\n",
    "    lc = LineCollection(segments, cmap='RdBu', norm=norm)\n",
    "    # Set the values used for colormapping\n",
    "    lc.set_array(np.squeeze(wM[:,nz-1-i]))\n",
    "    lc.set_linewidth(2)\n",
    "    line = axs.add_collection(lc)\n",
    "axs.set_xlim(xz.min(), xz.max())\n",
    "axs.set_ylim(bs.min(), ss.max())\n",
    "axs.plot(xs[:, 0], bs, color='black')\n",
    "fig.colorbar(line, ax=axs,label=r'vertical velocity.$(m\\dota^{-1})$')\n",
    "axs.set_ylabel('elevation.(m)')\n",
    "axs.set_xlabel('distance.(km)')\n",
    "plt.show()"
   ]
  },
  {
   "cell_type": "code",
   "execution_count": 13,
   "id": "71b1bb97",
   "metadata": {},
   "outputs": [],
   "source": [
    "xz = np.array([(Lx * k / nx, 0, i)  for k in range(nx + 1) for i in np.arange(0,1.0,1.0/nz)])\n",
    "ageM= np.array(age.at(xz, tolerance=1e-10))\n",
    "ageM=np.reshape(ageM,(21,nz));\n",
    "xz=np.reshape(xz,(21,nz,3));"
   ]
  },
  {
   "cell_type": "code",
   "execution_count": 16,
   "id": "a6b3b892",
   "metadata": {},
   "outputs": [
    {
     "data": {
      "image/png": "[encoded data removed]",
      "text/plain": [
       "<Figure size 432x288 with 2 Axes>"
      ]
     },
     "metadata": {
      "needs_background": "light"
     },
     "output_type": "display_data"
    }
   ],
   "source": [
    "fig, axs = plt.subplots()\n",
    "for i in range(0,nz):\n",
    "    points = np.array([np.squeeze(xz[:,i,0]),np.squeeze(ss-hz[:,i])]).T.reshape(-1, 1, 2)\n",
    "    segments = np.concatenate([points[:-1], points[1:]], axis=1)\n",
    "    norm = plt.Normalize(-30,30)\n",
    "    lc = LineCollection(segments, cmap='RdBu', norm=norm)\n",
    "    # Set the values used for colormapping\n",
    "    lc.set_array(np.squeeze(ageM[:,nz-1-i]))\n",
    "    lc.set_linewidth(2)\n",
    "    line = axs.add_collection(lc)\n",
    "axs.set_xlim(xz.min(), xz.max())\n",
    "axs.set_ylim(bs.min(), ss.max())\n",
    "axs.plot(xs[:, 0], bs, color='black')\n",
    "fig.colorbar(line, ax=axs,label=r'age $(years)$')\n",
    "axs.set_ylabel('elevation (m)')\n",
    "axs.set_xlabel('distance (m)')\n",
    "plt.show()"
   ]
  },
  {
   "cell_type": "code",
   "execution_count": null,
   "id": "55c71de1",
   "metadata": {},
   "outputs": [],
   "source": []
  }
 ],
 "metadata": {
  "kernelspec": {
   "display_name": "firedrake",
   "language": "python",
   "name": "firedrake"
  },
  "language_info": {
   "codemirror_mode": {
    "name": "ipython",
    "version": 3
   },
   "file_extension": ".py",
   "mimetype": "text/x-python",
   "name": "python",
   "nbconvert_exporter": "python",
   "pygments_lexer": "ipython3",
   "version": "3.9.2"
  }
 },
 "nbformat": 4,
 "nbformat_minor": 5
}
