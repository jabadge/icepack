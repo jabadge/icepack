{
 "cells": [
  {
   "cell_type": "code",
   "execution_count": 1,
   "metadata": {},
   "outputs": [],
   "source": [
    "import firedrake\n",
    "import matplotlib.pyplot as plt\n",
    "import icepack\n",
    "import icepack.plot\n",
    "from icepack.constants import ice_density as ρ_I, water_density as ρ_W\n",
    "import numpy as np"
   ]
  },
  {
   "cell_type": "markdown",
   "metadata": {},
   "source": [
    "# Firn modeling\n",
    "Ice-sheet mass-balance estimates derived from surface altimetry observations require careful consideration of spatial variations in firn density. Firn models remain a large source of uncertainty within continental mass-balance estimates because of simplifying assumptions for densification physics, which often neglect the effects of horizontal strain on the integrated firn-air-content (FAC). We aim to include the effects of horizontal divergence and convergence on the densification of snow and firn in continental/catchment scale simulations of ice sheet mass change by building an extensible firn model that ingests multi-demensional strain regime information. The variables that define the state of the firn are the density, the vertical velocity of the firn, and the energy density. The densification of snow to ice is often defined by the material derivative, which in 1D can be written as\n",
    "\n",
    "\\begin{equation*} \n",
    "\\frac{d\\rho}{dt} = \\frac{\\partial\\rho}{\\partial t} + w \\frac{\\partial \\rho}{\\partial z}\n",
    "\\end{equation*}\n",
    "\n",
    "The weak form of the densification equation can be written as\n",
    "\n",
    "\\begin{equation*} \n",
    "f_\\rho = \\int_\\Omega \\frac{d\\rho}{dt} \\phi d\\Omega + \\int_\\Omega w \\nabla \\rho \\phi d\\Omega - \\int_\\Omega \\frac{d\\rho}{dt}\\phi d\\Omega\n",
    "\\end{equation*}\n",
    "\n",
    "where we have integrated the density equation over the entire domain, and multiplied by the test function $\\phi$. The vertical velocity $w$ can be defined by integrating the densification rate and similarly multiplying by the test function $\\eta$.\n",
    "\n",
    "\\begin{equation*} \n",
    "w(z,t)=\\int \\frac{1}{\\rho}\\cdot \\frac{d\\rho}{dt}dz\n",
    "\\end{equation*} \n",
    "\\begin{equation*} \n",
    "\\frac{\\partial w}{\\partial z} = \\frac{1}{\\rho}\\cdot \\frac{d \\rho}{dt}\n",
    "\\end{equation*} \n",
    "\n",
    "\\begin{equation*} \n",
    "f_w = - \\int_\\Omega \\rho \\nabla w \\psi d\\Omega + \\int_\\Omega  \\frac{d \\rho}{dt}\\psi d\\Omega\n",
    "\\end{equation*} \n",
    "\n",
    "Future work will build in feedbacks with the thermal state of the firn. Following Arshwandan, we can also recast the shallow enthalpy equations into equations for the energy density. These can be broken up into energy density sources, and change as near surface heat conducts through the densifying firn. There are variables like the water/snow fraction that we might also be able to link to radiometric measurements that are regularly made with insar satellite constellations. The weak form for the energy density can be written as \n",
    "\n",
    "\\begin{equation*} \n",
    "f_E = \\int_\\Omega w \\rho \\nabla E \\psi d\\Omega - \\int_\\Omega \n",
    "\\left\\{ \\begin{array}{c}\n",
    "K_i \\\\\n",
    "K_0\n",
    "\\end{array}\n",
    "\\right\\}\n",
    "\\nabla E \\nabla \\psi d\\Omega - \\int_\\Omega \\rho \\frac{\\partial E}{\\partial t} \\psi d\\Omega\n",
    "\\end{equation*} \n",
    "\n",
    "\n",
    "Adding these terms we seek test functions that minimize the residual:\n",
    "\n",
    "\\begin{equation*} \n",
    "f= f_w + f_\\rho + f_E\n",
    "\\end{equation*} \n",
    "\n",
    "\n"
   ]
  },
  {
   "cell_type": "markdown",
   "metadata": {},
   "source": [
    "# Geometry\n",
    "\n",
    "We start by defining the geometry of the firn layer, which has a uniform depth of 200m (defined by the firn thickness) and is similar to the extruded inverval mesh that defines the hybrid model."
   ]
  },
  {
   "cell_type": "code",
   "execution_count": 2,
   "metadata": {},
   "outputs": [],
   "source": [
    "h_f=firedrake.Constant(200.0)\n",
    "Lx, Ly = 50e3, 12e3\n",
    "nx, ny = 1, 1\n",
    "mesh2d = firedrake.RectangleMesh(nx, ny, Lx, Ly)\n",
    "mesh = firedrake.ExtrudedMesh(mesh2d, layers=1)"
   ]
  },
  {
   "cell_type": "code",
   "execution_count": 3,
   "metadata": {},
   "outputs": [],
   "source": [
    "Q = firedrake.FunctionSpace(\n",
    "    mesh, family='CG', degree=1,\n",
    "    vfamily='DG', vdegree=10\n",
    ")"
   ]
  },
  {
   "cell_type": "code",
   "execution_count": 4,
   "metadata": {},
   "outputs": [],
   "source": [
    "ζ = firedrake.SpatialCoordinate(mesh)"
   ]
  },
  {
   "cell_type": "markdown",
   "metadata": {},
   "source": [
    "# Surface condition\n",
    "\n",
    "We start by defining the surface properties of densification. Importantly the surface density, the accumulation rate which defines the velocity condition at the surface and create the vertical velocity density and temperature objects. For these initial simulations temperature is assumed to be uniform with depth. Future work will evolve the temperature according to surface forcing and couple thermal feedbacks with the densification via the model chosen to describe $\\frac{\\partial \\rho}{\\partial t}$."
   ]
  },
  {
   "cell_type": "code",
   "execution_count": 5,
   "metadata": {},
   "outputs": [],
   "source": [
    "from icepack.constants import year as year\n",
    "ρ_s = firedrake.Constant(360.0)\n",
    "a = firedrake.Constant(.3)\n",
    "w = firedrake.interpolate(firedrake.Constant(0.0),Q) \n",
    "ρ = firedrake.interpolate(ρ_s,Q)\n",
    "T_avg = firedrake.Constant(273.15-15.)\n"
   ]
  },
  {
   "cell_type": "code",
   "execution_count": 6,
   "metadata": {},
   "outputs": [],
   "source": [
    "model = icepack.models.FirnModel()\n",
    "opts = {'default_solver_type': 'petsc',\n",
    "        'default_solver_parameters': {\n",
    "        'snes_type': 'newtontr',\n",
    "        'pc_type': 'lu',\n",
    "        'pc_factor_mat_solver_type': 'mumps'\n",
    "    }\n",
    "}\n",
    "solver = icepack.solvers.FirnSolver(model, **opts)"
   ]
  },
  {
   "cell_type": "code",
   "execution_count": 7,
   "metadata": {},
   "outputs": [],
   "source": [
    "final_time = 2.0\n",
    "timestep = 1.0\n",
    "num_steps = int(final_time / timestep)\n",
    "dt = final_time / num_steps\n",
    "\n",
    "for step in range(num_steps):\n",
    "    ρ = solver.solve_density(dt,\n",
    "                            firn_thickness=h_f,\n",
    "                            density=ρ,\n",
    "                            firn_velocity=w,\n",
    "                            accumulation=a,\n",
    "                            temperature=T_avg,\n",
    "                            surface_density = ρ_s)\n",
    "    w = solver.solve_velocity(dt,\n",
    "                            firn_thickness=h_f,\n",
    "                            density=ρ,\n",
    "                            firn_velocity=w,\n",
    "                            accumulation=a,\n",
    "                            temperature=T_avg,\n",
    "                            surface_density = ρ_s)\n",
    "    "
   ]
  },
  {
   "cell_type": "code",
   "execution_count": 8,
   "metadata": {},
   "outputs": [],
   "source": [
    "nz=10\n",
    "xz = np.array([(0, 0, i) for i in np.arange(0,1.0,1.0/nz)])\n",
    "density= np.array(ρ.at(xz, tolerance=1e-10))\n",
    "density_vel = np.array(w.at(xz, tolerance=1e-10))"
   ]
  },
  {
   "cell_type": "code",
   "execution_count": 9,
   "metadata": {},
   "outputs": [
    {
     "data": {
      "image/png": "[encoded data removed]",
      "text/plain": [
       "<Figure size 432x288 with 1 Axes>"
      ]
     },
     "metadata": {
      "needs_background": "light"
     },
     "output_type": "display_data"
    }
   ],
   "source": [
    "fig, ax = plt.subplots()\n",
    "ax.plot(h_f-np.linspace(0,1.0,10)*h_f.dat.data,density)\n",
    "ax.set_ylabel(r'density.($kg/m^3$)')\n",
    "ax.set_xlabel(r'depth.($m$)')\n",
    "plt.show()"
   ]
  },
  {
   "cell_type": "code",
   "execution_count": 10,
   "metadata": {},
   "outputs": [
    {
     "data": {
      "image/png": "[encoded data removed]",
      "text/plain": [
       "<Figure size 432x288 with 1 Axes>"
      ]
     },
     "metadata": {
      "needs_background": "light"
     },
     "output_type": "display_data"
    }
   ],
   "source": [
    "fig, ax = plt.subplots()\n",
    "ax.plot(h_f-np.linspace(0,1.0,10)*h_f.dat.data,density_vel)\n",
    "ax.set_ylabel(r'compaction velocity.($ma^{-1}$)')\n",
    "ax.set_xlabel(r'depth.($m$)')\n",
    "plt.show()"
   ]
  }
 ],
 "metadata": {
  "kernelspec": {
   "display_name": "firedrake",
   "language": "python",
   "name": "firedrake"
  },
  "language_info": {
   "codemirror_mode": {
    "name": "ipython",
    "version": 3
   },
   "file_extension": ".py",
   "mimetype": "text/x-python",
   "name": "python",
   "nbconvert_exporter": "python",
   "pygments_lexer": "ipython3",
   "version": "3.8.6"
  }
 },
 "nbformat": 4,
 "nbformat_minor": 4
}
