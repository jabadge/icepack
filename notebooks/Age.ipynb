{
 "cells": [
  {
   "cell_type": "code",
   "execution_count": null,
   "metadata": {},
   "outputs": [],
   "source": [
    "from firedrake import *\n",
    "import icepack.plot\n",
    "import numpy as np"
   ]
  },
  {
   "cell_type": "code",
   "execution_count": null,
   "metadata": {},
   "outputs": [],
   "source": [
    "mesh = UnitSquareMesh(10, 10)\n",
    "R = 100\n",
    "mesh.coordinates.dat.data[:] *= R\n",
    "\n",
    "x, y = SpatialCoordinate(mesh)\n",
    "Q = FunctionSpace(mesh, \"CG\", 1)\n",
    "V = VectorFunctionSpace(mesh, \"CG\", 1)\n",
    "phi = firedrake.TestFunction(Q)\n",
    "psi = firedrake.TrialFunction(Q)\n",
    "M = phi * psi * dx\n",
    "n = FacetNormal(mesh)"
   ]
  },
  {
   "cell_type": "code",
   "execution_count": null,
   "metadata": {},
   "outputs": [],
   "source": [
    "fig, axes = icepack.plot.subplots()\n",
    "icepack.plot.triplot(mesh, axes=axes)\n",
    "axes.set_title('Mesh');\n",
    "axes.legend();"
   ]
  },
  {
   "cell_type": "code",
   "execution_count": null,
   "metadata": {},
   "outputs": [],
   "source": [
    "# Set the velocity\n",
    "x_velocity = Constant(0)\n",
    "y_velocity = Constant(-2)\n",
    "u = interpolate(as_vector([x_velocity,y_velocity]),V)\n",
    "\n",
    "# Set the initial age field and age function\n",
    "a0 = interpolate(R-y,Q)\n",
    "a = Function(Q)\n",
    "a.assign(a0)\n",
    "da = Function(Q)\n",
    "\n",
    "# Set the time step and source (which eaquals the time step)\n",
    "dt = 1\n",
    "source = Constant(dt)"
   ]
  },
  {
   "cell_type": "code",
   "execution_count": null,
   "metadata": {},
   "outputs": [],
   "source": [
    "u_n = max_value(0, inner(u, n))\n",
    "f = a * u_n\n",
    "flux_faces = f * phi * dS\n",
    "flux_cells = -a * div(u * phi) * dx\n",
    "flux_out = a * max_value(0, inner(u, n)) * phi * ds\n",
    "flux_in = Constant(0) * min_value(0, inner(u, n)) * phi * ds\n",
    "flux = flux_cells + flux_out + flux_in\n",
    "J = -dt * flux"
   ]
  },
  {
   "cell_type": "code",
   "execution_count": null,
   "metadata": {},
   "outputs": [],
   "source": [
    "# Loop through time steps\n",
    "parameters = {\n",
    "        'solver_parameters': {\n",
    "            'ksp_type': 'preonly',\n",
    "            'pc_type': 'bjacobi',\n",
    "            'sub_pc_type': 'ilu'\n",
    "        }\n",
    "    }\n",
    "ntsteps = 20\n",
    "for t in range(ntsteps):\n",
    "    problem1 = LinearVariationalProblem(M, J, da)\n",
    "    solver1 = LinearVariationalSolver(problem1, **parameters)\n",
    "    solver1.solve()\n",
    "    a.assign(a + da + (source))"
   ]
  },
  {
   "cell_type": "code",
   "execution_count": null,
   "metadata": {},
   "outputs": [],
   "source": [
    "fig, axes = icepack.plot.subplots()\n",
    "contours = icepack.plot.tripcolor(interpolate(a0,Q), vmin=-80, vmax=80, cmap='RdBu_r', axes=axes)\n",
    "fig.colorbar(contours)\n",
    "axes.set_title('Initial Age');"
   ]
  },
  {
   "cell_type": "code",
   "execution_count": null,
   "metadata": {},
   "outputs": [],
   "source": [
    "fig, axes = icepack.plot.subplots()\n",
    "contours = icepack.plot.tripcolor(interpolate(a,Q), vmin=-80, vmax=80, cmap='RdBu_r', axes=axes)\n",
    "fig.colorbar(contours)\n",
    "axes.set_title('Final Age');"
   ]
  },
  {
   "cell_type": "code",
   "execution_count": null,
   "metadata": {},
   "outputs": [],
   "source": [
    "fig, axes = icepack.plot.subplots()\n",
    "contours = icepack.plot.tripcolor(interpolate(a-a0,Q), vmin=-ntsteps-10, vmax=ntsteps+10, cmap='RdBu_r', axes=axes)\n",
    "fig.colorbar(contours)\n",
    "axes.set_title('Age Difference (Initial - Final)');"
   ]
  },
  {
   "cell_type": "code",
   "execution_count": null,
   "metadata": {},
   "outputs": [],
   "source": [
    "# Implement a check with the known solution."
   ]
  },
  {
   "cell_type": "code",
   "execution_count": null,
   "metadata": {},
   "outputs": [],
   "source": [
    "# Old stuff - gets a nonlinear diverge and wouldn't run anyways without setting up more of the variables"
   ]
  },
  {
   "cell_type": "code",
   "execution_count": null,
   "metadata": {},
   "outputs": [],
   "source": [
    "# Use a theta family time discretization of the age evolution equation\n",
    "# Crank-Nicolson (theta = 1/2)\n",
    "# Backward Euler (theta = 1)\n",
    "theta = Constant(0.)\n",
    "at = s - inner(u,grad(a))\n",
    "at_prior = s - inner(u,grad(a_prior))\n",
    "da = a-a_prior\n",
    "J_main = (da/s - theta*at - (1-theta)*at_prior) * phi * dx\n",
    "\n",
    "# Add in some boundary conditions\n",
    "# Daniel prefers using a max_value statement because it's more obvious than the algebra in the next two lines\n",
    "un_pos = 0.5*(dot(u, n) + abs(dot(u, n))) \n",
    "un_neg = 0.5*(dot(u, n) - abs(dot(u, n)))\n",
    "q_inflow = Constant(0)\n",
    "\n",
    "J_inflow = q_inflow * un_neg * phi * ds\n",
    "J_outflow = a * un_pos * phi * ds\n",
    "\n",
    "# Total action functional is:\n",
    "J_left = J_main + J_outflow + J_inflow\n",
    "J_right = 0"
   ]
  },
  {
   "cell_type": "code",
   "execution_count": null,
   "metadata": {},
   "outputs": [],
   "source": [
    "# Loop through time steps\n",
    "import numpy as np\n",
    "ntsteps = 1 # There's a convergence error if I go above one time step\n",
    "for t in range(ntsteps):\n",
    "    solve(J_left == J_right, a)#, bcs=[bc])\n",
    "    a_prior.assign(a)\n",
    "    a = Function(Q)"
   ]
  }
 ],
 "metadata": {
  "kernelspec": {
   "display_name": "firedrake",
   "language": "python",
   "name": "firedrake"
  },
  "language_info": {
   "codemirror_mode": {
    "name": "ipython",
    "version": 3
   },
   "file_extension": ".py",
   "mimetype": "text/x-python",
   "name": "python",
   "nbconvert_exporter": "python",
   "pygments_lexer": "ipython3",
   "version": "3.8.6"
  }
 },
 "nbformat": 4,
 "nbformat_minor": 4
}
