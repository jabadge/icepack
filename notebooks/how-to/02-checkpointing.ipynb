{
 "cells": [
  {
   "cell_type": "markdown",
   "metadata": {},
   "source": [
    "# Checkpointing\n",
    "\n",
    "In the previous guide, we showed how to make simulations run faster by tuning how the linear and nonlinear solvers work under the hood.\n",
    "We'll revisit the MISMIP+ experiment of that demo here, only instead we'll use it to demonstrate how to write simulation results to disk.\n",
    "Saving simulation results is useful in several circumstances when you have long-running or expensive models.\n",
    "You can experiment with post-processing or visualization by working with the saved simulation results rather than have to run it again every time you tweak the colorbar.\n",
    "\n",
    "For this demo, we'll look at a more complex scenario where different solvers are called for in different stages of the model run.\n",
    "Serializing the results lets you experiment with the numerics in each stage separately.\n",
    "The melt phase of the MISMIP+ experiment requires a pretty fine spatial resolution.\n",
    "We could just start the experiment cold with a very fine mesh.\n",
    "But we'd only be burning a lot of CPU cycles computing very accurate approximations to intermediate states that we'll only toss out anyway.\n",
    "Instead, we can spin the model up at coarse resolution for several thousand years to propagate out most of the transients and save the results to disk.\n",
    "We can then resume from that checkpoint, interpolate the results to a function space with more degrees of freedom, and then complete the rest of the spin-up.\n",
    "This is a fairly typical workflow if you have to do expensive simulations."
   ]
  },
  {
   "cell_type": "code",
   "execution_count": null,
   "metadata": {},
   "outputs": [],
   "source": [
    "import firedrake\n",
    "Lx, Ly = 640e3, 80e3\n",
    "ny = 20\n",
    "nx = int(Lx/Ly) * ny\n",
    "area = Lx * Ly\n",
    "\n",
    "mesh = firedrake.RectangleMesh(nx, ny, Lx, Ly)\n",
    "Q1 = firedrake.FunctionSpace(mesh, family='CG', degree=1)\n",
    "V1 = firedrake.VectorFunctionSpace(mesh, family='CG', degree=1)"
   ]
  },
  {
   "cell_type": "markdown",
   "metadata": {},
   "source": [
    "This is the same bed shape as in the previous guide, but we've instead wrapped it up in a function that returns an expression.\n",
    "We'll need to interpolate the bed elevation into more than one function space, so this will save us repeating the same code."
   ]
  },
  {
   "cell_type": "code",
   "execution_count": null,
   "metadata": {},
   "outputs": [],
   "source": [
    "from firedrake import exp, max_value, Constant, interpolate\n",
    "\n",
    "def mismip_bed(mesh):\n",
    "    x, y = firedrake.SpatialCoordinate(mesh)\n",
    "\n",
    "    x_c = Constant(300e3)\n",
    "    X = x / x_c\n",
    "\n",
    "    B_0 = Constant(-150)\n",
    "    B_2 = Constant(-728.8)\n",
    "    B_4 = Constant(343.91)\n",
    "    B_6 = Constant(-50.57)\n",
    "    B_x = B_0 + B_2 * X**2 + B_4 * X**4 + B_6 * X**6\n",
    "\n",
    "    f_c = Constant(4e3)\n",
    "    d_c = Constant(500)\n",
    "    w_c = Constant(24e3)\n",
    "\n",
    "    B_y = d_c * (\n",
    "        1 / (1 + exp(-2 * (y - Ly / 2 - w_c) / f_c)) +\n",
    "        1 / (1 + exp(+2 * (y - Ly / 2 + w_c) / f_c))\n",
    "    )\n",
    "\n",
    "    z_deep = Constant(-720)\n",
    "    \n",
    "    return max_value(B_x + B_y, z_deep)"
   ]
  },
  {
   "cell_type": "code",
   "execution_count": null,
   "metadata": {},
   "outputs": [],
   "source": [
    "z_b = interpolate(mismip_bed(mesh), Q1)"
   ]
  },
  {
   "cell_type": "code",
   "execution_count": null,
   "metadata": {},
   "outputs": [],
   "source": [
    "import matplotlib.pyplot as plt\n",
    "from mpl_toolkits import mplot3d\n",
    "fig = plt.figure()\n",
    "axes = fig.add_subplot(projection='3d')\n",
    "firedrake.trisurf(z_b, axes=axes);"
   ]
  },
  {
   "cell_type": "markdown",
   "metadata": {},
   "source": [
    "And again we'll use the same fluidity, friction, and accumulation rates."
   ]
  },
  {
   "cell_type": "code",
   "execution_count": null,
   "metadata": {},
   "outputs": [],
   "source": [
    "A = Constant(20)\n",
    "C = Constant(1e-2)"
   ]
  },
  {
   "cell_type": "code",
   "execution_count": null,
   "metadata": {},
   "outputs": [],
   "source": [
    "from firedrake import sqrt, inner\n",
    "from icepack.constants import (\n",
    "    ice_density as ρ_I,\n",
    "    water_density as ρ_W,\n",
    "    gravity as g,\n",
    "    weertman_sliding_law as m\n",
    ")\n",
    "\n",
    "def friction(**kwargs):\n",
    "    variables = ('velocity', 'thickness', 'surface', 'friction')\n",
    "    u, h, s, C = map(kwargs.get, variables)\n",
    "\n",
    "    p_W = ρ_W * g * max_value(0, -(s - h))\n",
    "    p_I = ρ_I * g * h\n",
    "    N = max_value(0, p_I - p_W)\n",
    "    τ_c = N / 2\n",
    "\n",
    "    u_c = (τ_c / C)**m\n",
    "    u_b = sqrt(inner(u, u))\n",
    "\n",
    "    return τ_c * (\n",
    "        (u_c**(1/m + 1) + u_b**(1/m + 1))**(m / (m + 1)) - u_c\n",
    "    )"
   ]
  },
  {
   "cell_type": "code",
   "execution_count": null,
   "metadata": {},
   "outputs": [],
   "source": [
    "a = Constant(0.3)"
   ]
  },
  {
   "cell_type": "markdown",
   "metadata": {},
   "source": [
    "And once again we'll start out using the ice stream solver.\n",
    "We won't look at the hybrid solver in this demo, but a steady state for the ice stream model is a good start on the way to computing a steady state for the hybrid model."
   ]
  },
  {
   "cell_type": "code",
   "execution_count": null,
   "metadata": {},
   "outputs": [],
   "source": [
    "import icepack\n",
    "model = icepack.models.IceStream(friction=friction)"
   ]
  },
  {
   "cell_type": "code",
   "execution_count": null,
   "metadata": {},
   "outputs": [],
   "source": [
    "h_0 = interpolate(Constant(100), Q1)\n",
    "s_0 = icepack.compute_surface(thickness=h_0, bed=z_b)"
   ]
  },
  {
   "cell_type": "markdown",
   "metadata": {},
   "source": [
    "Once again, we'll be running the same simulation several times, so it helps to wrap this up in a function."
   ]
  },
  {
   "cell_type": "code",
   "execution_count": null,
   "metadata": {},
   "outputs": [],
   "source": [
    "import tqdm\n",
    "from firedrake import dx\n",
    "area = firedrake.assemble(Constant(1) * dx(mesh))\n",
    "\n",
    "def run_simulation(solver, h, s, u, time, dt):\n",
    "    num_steps = int(final_time / dt)\n",
    "    progress_bar = tqdm.trange(num_steps)\n",
    "    for step in progress_bar:\n",
    "        h = solver.prognostic_solve(\n",
    "            dt,\n",
    "            thickness=h,\n",
    "            velocity=u,\n",
    "            accumulation=a,\n",
    "            thickness_inflow=h_0\n",
    "        )\n",
    "        s = icepack.compute_surface(thickness=h, bed=z_b)\n",
    "\n",
    "        u = solver.diagnostic_solve(\n",
    "            velocity=u,\n",
    "            thickness=h,\n",
    "            surface=s,\n",
    "            fluidity=A,\n",
    "            friction=C\n",
    "        )\n",
    "\n",
    "        min_h = h.dat.data_ro.min()\n",
    "        avg_h = firedrake.assemble(h * dx) / area\n",
    "        description = f\"avg, min h: {avg_h:4.2f}, {min_h:4.2f}\"\n",
    "        progress_bar.set_description(description)\n",
    "        \n",
    "    return h, s, u"
   ]
  },
  {
   "cell_type": "markdown",
   "metadata": {},
   "source": [
    "And once again we'll need to build a solver to get an initial value of the ice velocity.\n",
    "For this demonstration we'll default to using the trust region method and a direct solver for the diagnostic model rather than the iterative solvers shown in the previous guide.\n",
    "The goal here is more to show how to use checkpoint files than to tweak performance."
   ]
  },
  {
   "cell_type": "code",
   "execution_count": null,
   "metadata": {},
   "outputs": [],
   "source": [
    "dt = 5.\n",
    "final_time = 3600"
   ]
  },
  {
   "cell_type": "code",
   "execution_count": null,
   "metadata": {},
   "outputs": [],
   "source": [
    "from firedrake import as_vector\n",
    "opts = {\n",
    "    'dirichlet_ids': [1],\n",
    "    'side_wall_ids': [3, 4],\n",
    "    'diagnostic_solver_type': 'petsc',\n",
    "    'diagnostic_solver_parameters': {\n",
    "        'snes_type': 'newtontr',\n",
    "        'ksp_type': 'preonly',\n",
    "        'pc_type': 'lu',\n",
    "        'pc_factor_mat_solver_type': 'mumps'\n",
    "    },\n",
    "    'prognostic_solver_parameters': {\n",
    "        'ksp_type': 'gmres',\n",
    "        'pc_type': 'ilu'\n",
    "    }\n",
    "}\n",
    "solver = icepack.solvers.FlowSolver(model, **opts)\n",
    "\n",
    "x = firedrake.SpatialCoordinate(mesh)[0]\n",
    "u_0 = solver.diagnostic_solve(\n",
    "    velocity=interpolate(as_vector((90 * x / Lx, 0)), V1),\n",
    "    thickness=h_0,\n",
    "    surface=s_0,\n",
    "    fluidity=A,\n",
    "    friction=C\n",
    ")"
   ]
  },
  {
   "cell_type": "markdown",
   "metadata": {},
   "source": [
    "### First spin-up phase\n",
    "\n",
    "Now for new things!\n",
    "Firedrake includes functionality for saving simulation results to disk using the HDF5 file format.\n",
    "HDF5 is a convenient file format for these types of problems because the library handles low-level binary twiddling like endianness for you, it's easy to inspect the contents and get a feel for what an HDF5 archive contains, and it has very efficient compression algorithm.\n",
    "These features are wrapped up in the Firedrake class `DumbCheckpoint`.\n",
    "The checkpoint is a little dumb because all it does is write the vector of coefficients in a field's finite element basis.\n",
    "It doesn't write out the mesh, the function spaces, or information about the partitioning of the degrees of freedom if running in parallel.\n",
    "It's on you as the user to correctly load and store from the same mesh and function spaces.\n",
    "(The Firedrake team recently as of 21 Sept 2020 won a grant to improve the I/O capabilities and these shortcomings are going to be addressed very soon).\n",
    "Nonetheless, it's good enough for our purposes as long as we exercise a bit of care.\n",
    "\n",
    "Rather than run the simulation unconditionally, we'll first see if a checkpoint file `mismip-degree1.h5` exists on disk.\n",
    "If it isn't there, we'll run the simulation and save the results to this file.\n",
    "If it is there, we'll instead load the already-computed results.\n",
    "The important thing to notice here is that we have to use the same names when we store and load these fields."
   ]
  },
  {
   "cell_type": "code",
   "execution_count": null,
   "metadata": {},
   "outputs": [],
   "source": [
    "import os\n",
    "\n",
    "if not os.path.exists('mismip-degree1.h5'):\n",
    "    h, s, u = run_simulation(\n",
    "        solver, h_0, s_0, u_0, final_time, dt\n",
    "    )\n",
    "    \n",
    "    with firedrake.DumbCheckpoint(\n",
    "        'mismip-degree1', mode=firedrake.FILE_CREATE\n",
    "    ) as checkpoint:\n",
    "        checkpoint.store(h, name='thickness')\n",
    "        checkpoint.store(s, name='surface')\n",
    "        checkpoint.store(u, name='velocity')\n",
    "\n",
    "else:\n",
    "    h = firedrake.Function(Q1)\n",
    "    s = firedrake.Function(Q1)\n",
    "    u = firedrake.Function(V1)\n",
    "    \n",
    "    with firedrake.DumbCheckpoint(\n",
    "        'mismip-degree1', mode=firedrake.FILE_READ\n",
    "    ) as checkpoint:\n",
    "        checkpoint.load(h, name='thickness')\n",
    "        checkpoint.load(s, name='surface')\n",
    "        checkpoint.load(u, name='velocity')"
   ]
  },
  {
   "cell_type": "markdown",
   "metadata": {},
   "source": [
    "We've run the model forward by 3600 years.\n",
    "This isn't quite enough to get to steady state.\n",
    "Near the shear margins, the ice thickness can get very thin -- on the order of 1-10 m -- after a few thousand years.\n",
    "At the low spatial resolution we're using for this run, the system can even develop negative ice thicknesses.\n",
    "(This unphysical feature can be eliminated by clamping the thickness from below at every timestep.)\n",
    "Checkpointing makes it easy for us to resume the spin-up at higher spatial resolution without having to re-run the coarser phase again and again.\n",
    "\n",
    "If you run this notebook again, you'll see that the simulation doesn't run a second time; the results just get loaded from disk."
   ]
  },
  {
   "cell_type": "markdown",
   "metadata": {},
   "source": [
    "### Second spin-up phase\n",
    "\n",
    "Now that we've propagated out most of the initial transients, we can take our results with a piecewise linear basis, interpolate them into a piecewise quadratic basis, and resume the simulation for several thousand years more.\n",
    "Since the system is much closer to steady state than it was at initialization, the nonlinear solver doesn't have to work as hard to calculate a velocity field."
   ]
  },
  {
   "cell_type": "code",
   "execution_count": null,
   "metadata": {},
   "outputs": [],
   "source": [
    "Q2 = firedrake.FunctionSpace(mesh, family='CG', degree=2)\n",
    "V2 = firedrake.VectorFunctionSpace(mesh, family='CG', degree=2)"
   ]
  },
  {
   "cell_type": "code",
   "execution_count": null,
   "metadata": {},
   "outputs": [],
   "source": [
    "h_0 = firedrake.interpolate(h, Q2)\n",
    "s_0 = firedrake.interpolate(s, Q2)\n",
    "u_0 = firedrake.interpolate(u, V2)\n",
    "z_b = firedrake.interpolate(mismip_bed(mesh), Q2)"
   ]
  },
  {
   "cell_type": "markdown",
   "metadata": {},
   "source": [
    "The old solver object was set up for the degree-1 discretization.\n",
    "To continue, we'll need to create and set up a fresh solver object that stores the right internal data for the finer degree-2 discretization."
   ]
  },
  {
   "cell_type": "code",
   "execution_count": null,
   "metadata": {},
   "outputs": [],
   "source": [
    "solver = icepack.solvers.FlowSolver(model, **opts)"
   ]
  },
  {
   "cell_type": "code",
   "execution_count": null,
   "metadata": {},
   "outputs": [],
   "source": [
    "final_time = 3600\n",
    "dt = 4.\n",
    "\n",
    "h, s, u = run_simulation(\n",
    "    solver, h_0, s_0, u_0, final_time, dt\n",
    ")"
   ]
  },
  {
   "cell_type": "markdown",
   "metadata": {},
   "source": [
    "We can see some interesting features if we look at the thickness change from the start to the end of the simulation.\n",
    "At the left side of the domain on the inflow boundary, the ice is still thickening even after several thousand years.\n",
    "This part of the domain takes the longest time to relax to steady state.\n",
    "Meanwhile at the floating terminus of the glacier on the right the system has more or less found its equilibrium.\n",
    "The largest adjustments are near the grounding line and at the very thin ice in the shear margins.\n",
    "These changes are more likely from the increased resolution of the quadratic basis functions over the linear basis functions."
   ]
  },
  {
   "cell_type": "code",
   "execution_count": null,
   "metadata": {},
   "outputs": [],
   "source": [
    "δh = firedrake.interpolate(h - h_0, Q2)"
   ]
  },
  {
   "cell_type": "code",
   "execution_count": null,
   "metadata": {},
   "outputs": [],
   "source": [
    "import icepack.plot\n",
    "fig, axes = icepack.plot.subplots()\n",
    "axes.get_yaxis().set_visible(False)\n",
    "triangles = icepack.plot.tripcolor(\n",
    "    δh, vmin=-300, vmax=+300, shading='gouraud', cmap='RdBu', axes=axes\n",
    ")\n",
    "fig.colorbar(triangles, fraction=0.01, pad=0.046);"
   ]
  },
  {
   "cell_type": "markdown",
   "metadata": {},
   "source": [
    "Finally, we can save these results to another checkpoint file in order to continue to later phases of the simulation."
   ]
  },
  {
   "cell_type": "code",
   "execution_count": null,
   "metadata": {},
   "outputs": [],
   "source": [
    "with firedrake.DumbCheckpoint(\n",
    "    'mismip-degree2', mode=firedrake.FILE_CREATE\n",
    ") as checkpoint:\n",
    "    checkpoint.store(h, name='thickness')\n",
    "    checkpoint.store(s, name='surface')\n",
    "    checkpoint.store(u, name='velocity')"
   ]
  },
  {
   "cell_type": "markdown",
   "metadata": {},
   "source": [
    "### Conclusion\n",
    "\n",
    "The demonstrations we've shown so far have done all of the simulation and analysis in the same notebook.\n",
    "This is handy for educational purposes, but it might not be an ideal workflow if you're doing big expensive simulations.\n",
    "For that use case, it can be more conevenient for you to use one script for the simulation that saves the results to an HDF5 file at the end and do all the post-processing, analysis, and visualization in a notebook or in another script.\n",
    "As we've shown here, you might understand one part of a multi-stage simulation but still be debugging the numerics for a latter stage, and checkpointing the earlier stage is useful for saving time as well.\n",
    "Tools like [Make](https://www.gnu.org/software/make/) or [snakemake](https://snakemake.readthedocs.io/en/stable/) can be really handy for orchestrating these kinds of processing pipelines."
   ]
  }
 ],
 "metadata": {
  "kernelspec": {
   "display_name": "firedrake",
   "language": "python",
   "name": "firedrake"
  },
  "language_info": {
   "codemirror_mode": {
    "name": "ipython",
    "version": 3
   },
   "file_extension": ".py",
   "mimetype": "text/x-python",
   "name": "python",
   "nbconvert_exporter": "python",
   "pygments_lexer": "ipython3",
   "version": "3.7.4"
  }
 },
 "nbformat": 4,
 "nbformat_minor": 4
}
